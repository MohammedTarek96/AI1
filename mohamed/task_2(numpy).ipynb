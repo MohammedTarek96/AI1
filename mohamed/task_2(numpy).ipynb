{
 "cells": [
  {
   "cell_type": "code",
   "execution_count": 69,
   "id": "79bf6cd7",
   "metadata": {},
   "outputs": [
    {
     "name": "stdout",
     "output_type": "stream",
     "text": [
      "The shape of an array: (4, 2)\n",
      "Array dimensions : 2\n",
      "The Length of each element of the array in bytes:  4\n"
     ]
    }
   ],
   "source": [
    "#exercise 1\n",
    "import numpy as np\n",
    "arr=np.arange(2, 18, 2)\n",
    "arr=arr.reshape(4,2)\n",
    "arr.astype('u2')\n",
    "print('The shape of an array:',arr.shape)\n",
    "print('Array dimensions :',arr.ndim)\n",
    "print('The Length of each element of the array in bytes: ',len(arr[:]))"
   ]
  },
  {
   "cell_type": "code",
   "execution_count": 72,
   "id": "9007c82b",
   "metadata": {},
   "outputs": [
    {
     "data": {
      "text/plain": [
       "array([[100, 110],\n",
       "       [120, 130],\n",
       "       [140, 150],\n",
       "       [160, 170],\n",
       "       [180, 190]])"
      ]
     },
     "execution_count": 72,
     "metadata": {},
     "output_type": "execute_result"
    }
   ],
   "source": [
    "#exercise 2\n",
    "arr1=np.arange(100,200,10)\n",
    "arr1=arr1.reshape(5,2)\n",
    "arr1"
   ]
  },
  {
   "cell_type": "code",
   "execution_count": 73,
   "id": "69e5653e",
   "metadata": {},
   "outputs": [
    {
     "data": {
      "text/plain": [
       "array([33, 66, 99])"
      ]
     },
     "execution_count": 73,
     "metadata": {},
     "output_type": "execute_result"
    }
   ],
   "source": [
    "#exercise 3\n",
    "sampleArray = np.array([[11 ,22, 33], [44, 55, 66], [77, 88, 99]])\n",
    "sampleArray[:,2]"
   ]
  },
  {
   "cell_type": "code",
   "execution_count": 76,
   "id": "113a15d4",
   "metadata": {},
   "outputs": [
    {
     "data": {
      "text/plain": [
       "array([[ 6, 12],\n",
       "       [30, 36],\n",
       "       [54, 60]])"
      ]
     },
     "execution_count": 76,
     "metadata": {},
     "output_type": "execute_result"
    }
   ],
   "source": [
    "#exercise 4\n",
    "sampleArray1= np.array([[3 ,6, 9, 12], [15 ,18, 21, 24],\n",
    "[27 ,30, 33, 36], [39 ,42, 45, 48], [51 ,54, 57, 60]])\n",
    "sampleArray1[0:5:2,1:5:2]"
   ]
  },
  {
   "cell_type": "code",
   "execution_count": 81,
   "id": "f821ea7f",
   "metadata": {},
   "outputs": [
    {
     "name": "stdout",
     "output_type": "stream",
     "text": [
      "the addition of two arrays: \n",
      " [[20 39 33]\n",
      " [25 25 28]]\n",
      "the square root of all elements: \n",
      " [[ 400 1521 1089]\n",
      " [ 625  625  784]]\n"
     ]
    }
   ],
   "source": [
    "#exercise 5\n",
    "arrayOne = np.array([[5, 6, 9], [21 ,18, 27]])\n",
    "arrayTwo = np.array([[15 ,33, 24], [4 ,7, 1]])\n",
    "arrResult=arrayOne+arrayTwo\n",
    "print('the addition of two arrays: \\n',arrResult)\n",
    "print('the square root of all elements: \\n',arrResult**2)\n"
   ]
  }
 ],
 "metadata": {
  "kernelspec": {
   "display_name": "Python 3 (ipykernel)",
   "language": "python",
   "name": "python3"
  },
  "language_info": {
   "codemirror_mode": {
    "name": "ipython",
    "version": 3
   },
   "file_extension": ".py",
   "mimetype": "text/x-python",
   "name": "python",
   "nbconvert_exporter": "python",
   "pygments_lexer": "ipython3",
   "version": "3.9.12"
  }
 },
 "nbformat": 4,
 "nbformat_minor": 5
}
