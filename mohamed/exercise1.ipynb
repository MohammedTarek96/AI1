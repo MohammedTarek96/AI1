{
 "cells": [
  {
   "cell_type": "code",
   "execution_count": 1,
   "id": "b7747c84",
   "metadata": {},
   "outputs": [
    {
     "name": "stdout",
     "output_type": "stream",
     "text": [
      "hello_world <3\n"
     ]
    }
   ],
   "source": [
    "print(\"hello_world <3\")"
   ]
  },
  {
   "cell_type": "code",
   "execution_count": 4,
   "id": "3324e525",
   "metadata": {},
   "outputs": [
    {
     "name": "stdout",
     "output_type": "stream",
     "text": [
      "hello \n",
      " world\n"
     ]
    }
   ],
   "source": [
    "\"\"\"\n",
    "this will not appear\n",
    "\"\"\"\n",
    "print(\"hello \\n world\")"
   ]
  },
  {
   "cell_type": "code",
   "execution_count": 5,
   "id": "63a3b964",
   "metadata": {},
   "outputs": [
    {
     "name": "stdout",
     "output_type": "stream",
     "text": [
      "2 5\n"
     ]
    }
   ],
   "source": [
    "a=2\n",
    "b=5\n",
    "print(a,b)"
   ]
  },
  {
   "cell_type": "code",
   "execution_count": 6,
   "id": "61f62266",
   "metadata": {},
   "outputs": [
    {
     "data": {
      "text/plain": [
       "'C:\\\\Users\\\\smart'"
      ]
     },
     "execution_count": 6,
     "metadata": {},
     "output_type": "execute_result"
    }
   ],
   "source": [
    "import os # import os module\n",
    "os.getcwd() # get the current working directory"
   ]
  },
  {
   "cell_type": "code",
   "execution_count": 10,
   "id": "f22e2e78",
   "metadata": {},
   "outputs": [
    {
     "data": {
      "text/plain": [
       "'Windows-10-10.0.19044-SP0'"
      ]
     },
     "execution_count": 10,
     "metadata": {},
     "output_type": "execute_result"
    }
   ],
   "source": [
    "import platform as pf\n",
    "pf.platform()"
   ]
  },
  {
   "cell_type": "code",
   "execution_count": 11,
   "id": "e501b544",
   "metadata": {},
   "outputs": [],
   "source": [
    "a=1"
   ]
  },
  {
   "cell_type": "code",
   "execution_count": 12,
   "id": "4c15daf9",
   "metadata": {},
   "outputs": [
    {
     "name": "stdout",
     "output_type": "stream",
     "text": [
      "1\n"
     ]
    }
   ],
   "source": [
    "print(a)"
   ]
  },
  {
   "cell_type": "code",
   "execution_count": 18,
   "id": "233e45fd",
   "metadata": {},
   "outputs": [
    {
     "name": "stdout",
     "output_type": "stream",
     "text": [
      "enter any number you want it's factorial: 5\n",
      "5\n"
     ]
    }
   ],
   "source": [
    "num1=0\n",
    "def fact(num):\n",
    "    num1=55\n",
    "    if num<=1:\n",
    "        return 1\n",
    "    else:\n",
    "        return num*fact(num-1)\n",
    "    \n",
    "num=int(input(\"enter any number you want it\\'s factorial: \"))  \n",
    "fact(num)*num1\n",
    "print(num)"
   ]
  },
  {
   "cell_type": "code",
   "execution_count": 19,
   "id": "964cafe6",
   "metadata": {},
   "outputs": [
    {
     "name": "stdout",
     "output_type": "stream",
     "text": [
      "Help on method raw_input in module ipykernel.kernelbase:\n",
      "\n",
      "raw_input(prompt='') method of ipykernel.ipkernel.IPythonKernel instance\n",
      "    Forward raw_input to frontends\n",
      "    \n",
      "    Raises\n",
      "    ------\n",
      "    StdinNotImplementedError if active frontend doesn't support stdin.\n",
      "\n"
     ]
    }
   ],
   "source": [
    "help(input)"
   ]
  },
  {
   "cell_type": "code",
   "execution_count": 20,
   "id": "04562d63",
   "metadata": {},
   "outputs": [
    {
     "data": {
      "text/plain": [
       "1443646158464"
      ]
     },
     "execution_count": 20,
     "metadata": {},
     "output_type": "execute_result"
    }
   ],
   "source": [
    "id(print)"
   ]
  },
  {
   "cell_type": "code",
   "execution_count": 21,
   "id": "84c132be",
   "metadata": {},
   "outputs": [
    {
     "data": {
      "text/plain": [
       "int"
      ]
     },
     "execution_count": 21,
     "metadata": {},
     "output_type": "execute_result"
    }
   ],
   "source": [
    "a=5\n",
    "type(a)"
   ]
  },
  {
   "cell_type": "code",
   "execution_count": 22,
   "id": "795f9b0f",
   "metadata": {},
   "outputs": [
    {
     "data": {
      "text/plain": [
       "4"
      ]
     },
     "execution_count": 22,
     "metadata": {},
     "output_type": "execute_result"
    }
   ],
   "source": [
    "len(\"9021\")"
   ]
  },
  {
   "cell_type": "code",
   "execution_count": 23,
   "id": "563ba2ac",
   "metadata": {},
   "outputs": [
    {
     "data": {
      "text/plain": [
       "complex"
      ]
     },
     "execution_count": 23,
     "metadata": {},
     "output_type": "execute_result"
    }
   ],
   "source": [
    "a=5+6j\n",
    "type(a)"
   ]
  },
  {
   "cell_type": "code",
   "execution_count": null,
   "id": "94aa922a",
   "metadata": {},
   "outputs": [],
   "source": [
    "#this will not appear"
   ]
  },
  {
   "cell_type": "code",
   "execution_count": 26,
   "id": "d207ed06",
   "metadata": {},
   "outputs": [
    {
     "name": "stdout",
     "output_type": "stream",
     "text": [
      "i love python\n",
      "<class 'str'>\n"
     ]
    }
   ],
   "source": [
    "s1='i love python'\n",
    "print(s1)\n",
    "len(s1)\n",
    "print(type(s1))"
   ]
  },
  {
   "cell_type": "code",
   "execution_count": 30,
   "id": "8a0fb871",
   "metadata": {},
   "outputs": [
    {
     "name": "stdout",
     "output_type": "stream",
     "text": [
      "i'm the one who knocks\n"
     ]
    }
   ],
   "source": [
    "s1='i\\'m the one who knocks'\n",
    "print(s1)"
   ]
  },
  {
   "cell_type": "code",
   "execution_count": 37,
   "id": "99519bfc",
   "metadata": {},
   "outputs": [
    {
     "name": "stdout",
     "output_type": "stream",
     "text": [
      "u\n"
     ]
    }
   ],
   "source": [
    "s=\"unchangable\"\n",
    "print(s[0])"
   ]
  },
  {
   "cell_type": "code",
   "execution_count": 39,
   "id": "696b0212",
   "metadata": {},
   "outputs": [
    {
     "name": "stdout",
     "output_type": "stream",
     "text": [
      "mohammed tarek\n",
      "mohammedmohammedmohammedmohammedmohammed\n"
     ]
    }
   ],
   "source": [
    "s1=\"mohammed\"\n",
    "s2=' tarek'\n",
    "print(s1+s2)\n",
    "print(s1*5)"
   ]
  },
  {
   "cell_type": "code",
   "execution_count": 53,
   "id": "bfa3f1a8",
   "metadata": {},
   "outputs": [
    {
     "name": "stdout",
     "output_type": "stream",
     "text": [
      "MOHAMMED TAREK\n"
     ]
    }
   ],
   "source": [
    "s=\"mohammed tarek\"\n",
    "s.split(' ')\n",
    "print(s.upper())"
   ]
  },
  {
   "cell_type": "code",
   "execution_count": 54,
   "id": "e9f5ff1c",
   "metadata": {},
   "outputs": [
    {
     "data": {
      "text/plain": [
       "'i--love--python'"
      ]
     },
     "execution_count": 54,
     "metadata": {},
     "output_type": "execute_result"
    }
   ],
   "source": [
    "'--'.join(['i','love','python'])"
   ]
  },
  {
   "cell_type": "code",
   "execution_count": 58,
   "id": "ee69fbed",
   "metadata": {},
   "outputs": [
    {
     "data": {
      "text/plain": [
       "'My name is 63 ,age is AI'"
      ]
     },
     "execution_count": 58,
     "metadata": {},
     "output_type": "execute_result"
    }
   ],
   "source": [
    "'My name is %d ,age is %s' %(63,'AI')"
   ]
  },
  {
   "cell_type": "code",
   "execution_count": 70,
   "id": "05ae7b0d",
   "metadata": {},
   "outputs": [
    {
     "name": "stdout",
     "output_type": "stream",
     "text": [
      "[1, 2, 3, 4]\n"
     ]
    }
   ],
   "source": [
    "l=[1,2,3,4]\n",
    "l.append(5)\n",
    "l.pop()\n",
    "print(l)"
   ]
  },
  {
   "cell_type": "code",
   "execution_count": 77,
   "id": "d8654705",
   "metadata": {},
   "outputs": [
    {
     "name": "stdout",
     "output_type": "stream",
     "text": [
      "5\n",
      "dict_keys(['arabs', 'forigns'])\n",
      "dict_values(['5', '10'])\n"
     ]
    }
   ],
   "source": [
    "dic={'arabs':'5','forigns':'10'}\n",
    "print(dic['arabs'])\n",
    "print(dic.keys())\n",
    "print(dic.values())"
   ]
  }
 ],
 "metadata": {
  "kernelspec": {
   "display_name": "Python 3 (ipykernel)",
   "language": "python",
   "name": "python3"
  },
  "language_info": {
   "codemirror_mode": {
    "name": "ipython",
    "version": 3
   },
   "file_extension": ".py",
   "mimetype": "text/x-python",
   "name": "python",
   "nbconvert_exporter": "python",
   "pygments_lexer": "ipython3",
   "version": "3.9.12"
  }
 },
 "nbformat": 4,
 "nbformat_minor": 5
}
