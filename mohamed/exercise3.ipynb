{
 "cells": [
  {
   "cell_type": "code",
   "execution_count": 13,
   "id": "3abf46ed",
   "metadata": {},
   "outputs": [
    {
     "name": "stdout",
     "output_type": "stream",
     "text": [
      "20\n"
     ]
    }
   ],
   "source": [
    "t=(\"orange\",[10,20,30],[5,15,25])\n",
    "l=len(t)\n",
    "for i in range(0,l):\n",
    "    for j in range(0,3):\n",
    "        if t[i][j]==20:\n",
    "            print(t[i][j])"
   ]
  },
  {
   "cell_type": "code",
   "execution_count": 15,
   "id": "f67f1b87",
   "metadata": {},
   "outputs": [
    {
     "name": "stdout",
     "output_type": "stream",
     "text": [
      "enter single itam: 50\n",
      "(50,)\n"
     ]
    }
   ],
   "source": [
    "n=int(input(\"enter single itam: \"))\n",
    "l=[]\n",
    "l.append(n)\n",
    "l=tuple(l)\n",
    "print(l)"
   ]
  },
  {
   "cell_type": "code",
   "execution_count": 19,
   "id": "77ba061a",
   "metadata": {},
   "outputs": [
    {
     "name": "stdout",
     "output_type": "stream",
     "text": [
      "10\n",
      "20\n",
      "30\n",
      "40\n"
     ]
    }
   ],
   "source": [
    "t=(10,20,30,40)\n",
    "l=len(t)\n",
    "for i in range(0,l):\n",
    "    print(t[i])"
   ]
  },
  {
   "cell_type": "code",
   "execution_count": 80,
   "id": "109a8fac",
   "metadata": {},
   "outputs": [
    {
     "name": "stdout",
     "output_type": "stream",
     "text": [
      "2022-02-25 16:20:00\n"
     ]
    }
   ],
   "source": [
    "from datetime import datetime\n",
    "date_string=\"25 feb 2022 4:20pm\"\n",
    "date= datetime.strptime(date_string,'%d %b %Y %I:%M%p')\n",
    "print(date)"
   ]
  }
 ],
 "metadata": {
  "kernelspec": {
   "display_name": "Python 3 (ipykernel)",
   "language": "python",
   "name": "python3"
  },
  "language_info": {
   "codemirror_mode": {
    "name": "ipython",
    "version": 3
   },
   "file_extension": ".py",
   "mimetype": "text/x-python",
   "name": "python",
   "nbconvert_exporter": "python",
   "pygments_lexer": "ipython3",
   "version": "3.9.12"
  }
 },
 "nbformat": 4,
 "nbformat_minor": 5
}
