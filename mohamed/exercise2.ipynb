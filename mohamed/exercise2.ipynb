{
 "cells": [
  {
   "cell_type": "code",
   "execution_count": 8,
   "id": "10e9fa88",
   "metadata": {},
   "outputs": [
    {
     "name": "stdout",
     "output_type": "stream",
     "text": [
      "enter string: programming\n",
      "enter number: 5\n",
      "amming\n"
     ]
    }
   ],
   "source": [
    "st1=input(\"enter string: \")\n",
    "n=int(input(\"enter number: \"))\n",
    "n1=len(st1)\n",
    "st2=\"\"\n",
    "for i in range (n,n1):\n",
    "    st2+=st1[i]\n",
    "print(st2)"
   ]
  },
  {
   "cell_type": "code",
   "execution_count": 23,
   "id": "a7f68b85",
   "metadata": {},
   "outputs": [
    {
     "name": "stdout",
     "output_type": "stream",
     "text": [
      "6\n",
      "5\n",
      "4\n",
      "3\n",
      "2\n",
      "1\n"
     ]
    }
   ],
   "source": [
    "l=[1,2,3,4,5,6]\n",
    "n=len(l)\n",
    "for i in range (n-1,-1,-1):\n",
    "    print(l[i])"
   ]
  },
  {
   "cell_type": "code",
   "execution_count": 26,
   "id": "3c22c865",
   "metadata": {},
   "outputs": [
    {
     "name": "stdout",
     "output_type": "stream",
     "text": [
      "[6, 5, 4, 3, 2, 1]\n"
     ]
    }
   ],
   "source": [
    "l=[1,2,3,4,5,6]\n",
    "l.reverse()\n",
    "print(l)"
   ]
  },
  {
   "cell_type": "code",
   "execution_count": 4,
   "id": "353aa8f9",
   "metadata": {},
   "outputs": [
    {
     "name": "stdout",
     "output_type": "stream",
     "text": [
      "['my', 'name', 'is', 'klly']\n"
     ]
    }
   ],
   "source": [
    "list1=[\"m\",\"na\",\"i\",\"k\"]\n",
    "list2=[\"y\",\"me\",\"s\",\"lly\"]\n",
    "list3=[]\n",
    "for i in range (0,4):\n",
    "    ele=list1[i]+list2[i]\n",
    "    list3.append(ele)\n",
    "print(list3)"
   ]
  },
  {
   "cell_type": "code",
   "execution_count": 45,
   "id": "19dfc847",
   "metadata": {},
   "outputs": [
    {
     "name": "stdout",
     "output_type": "stream",
     "text": [
      "('m', 'y')\n",
      "('na', 'me')\n",
      "('i', 's')\n",
      "('k', 'lly')\n"
     ]
    }
   ],
   "source": [
    "list1=[\"m\",\"na\",\"i\",\"k\"]\n",
    "list2=[\"y\",\"me\",\"s\",\"lly\"]\n",
    "for list3 in zip(list1,list2):\n",
    "    print(list3)"
   ]
  },
  {
   "cell_type": "code",
   "execution_count": 57,
   "id": "dea380e2",
   "metadata": {},
   "outputs": [
    {
     "name": "stdout",
     "output_type": "stream",
     "text": [
      "('ten', 10)\n",
      "('twenty', 20)\n",
      "('thirty', 30)\n"
     ]
    }
   ],
   "source": [
    "keys=['ten','twenty','thirty']\n",
    "values=[10,20,30]\n",
    "for dic in zip(keys,values):\n",
    "    print(dic)"
   ]
  },
  {
   "cell_type": "code",
   "execution_count": 2,
   "id": "eb80610c",
   "metadata": {},
   "outputs": [
    {
     "name": "stdout",
     "output_type": "stream",
     "text": [
      "{0: {'ten': 10}, 1: {'twenty': 20}, 2: {'thirty': 30}}\n"
     ]
    }
   ],
   "source": [
    "keys=['ten','twenty','thirty']\n",
    "values=[10,20,30]\n",
    "n=len(keys)\n",
    "dic={}\n",
    "for i in range(0,3):\n",
    "    dic[i]=dict([(keys[i],values[i])])\n",
    "    \n",
    "print(dic)"
   ]
  },
  {
   "cell_type": "code",
   "execution_count": 122,
   "id": "1231d02a",
   "metadata": {},
   "outputs": [
    {
     "name": "stdout",
     "output_type": "stream",
     "text": [
      "{'yellow', 'green', 'blue', 'orange', 'black', 'red'}\n"
     ]
    }
   ],
   "source": [
    "set1={\"yellow\",\"orange\",\"black\"}\n",
    "list1=[\"blue\",\"green\",\"red\"]\n",
    "list2=list(set1)\n",
    "print(set(list1+list2))"
   ]
  },
  {
   "cell_type": "code",
   "execution_count": 33,
   "id": "fc305760",
   "metadata": {},
   "outputs": [
    {
     "name": "stdout",
     "output_type": "stream",
     "text": [
      "50\n",
      "40\n",
      "30\n",
      "20\n",
      "10\n"
     ]
    }
   ],
   "source": [
    "t=(10,20,30,40,50)\n",
    "l=len(t)\n",
    "for i in range(l,0,-1):\n",
    "    print(t[i-1])"
   ]
  },
  {
   "cell_type": "code",
   "execution_count": 151,
   "id": "1986b0bc",
   "metadata": {},
   "outputs": [
    {
     "name": "stdout",
     "output_type": "stream",
     "text": [
      "(50, 40, 30, 20, 10)\n"
     ]
    }
   ],
   "source": [
    "t=(10,20,30,40,50)\n",
    "list1=list(t)\n",
    "list1.reverse()\n",
    "t=tuple(list1)\n",
    "print(t)"
   ]
  }
 ],
 "metadata": {
  "kernelspec": {
   "display_name": "Python 3 (ipykernel)",
   "language": "python",
   "name": "python3"
  },
  "language_info": {
   "codemirror_mode": {
    "name": "ipython",
    "version": 3
   },
   "file_extension": ".py",
   "mimetype": "text/x-python",
   "name": "python",
   "nbconvert_exporter": "python",
   "pygments_lexer": "ipython3",
   "version": "3.9.12"
  }
 },
 "nbformat": 4,
 "nbformat_minor": 5
}
