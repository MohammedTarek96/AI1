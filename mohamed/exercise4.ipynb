{
 "cells": [
  {
   "cell_type": "code",
   "execution_count": 2,
   "id": "54f10d30",
   "metadata": {},
   "outputs": [
    {
     "name": "stdout",
     "output_type": "stream",
     "text": [
      "70\n"
     ]
    }
   ],
   "source": [
    "number1 = 40\n",
    "number2 = 30\n",
    "if number1*number2<=1000:\n",
    "    print(number1*number2)\n",
    "else:\n",
    "    print(number1+number2)"
   ]
  },
  {
   "cell_type": "code",
   "execution_count": 7,
   "id": "2b12ce5a",
   "metadata": {},
   "outputs": [
    {
     "name": "stdout",
     "output_type": "stream",
     "text": [
      "the current num=  0  the prev num=  0  sum=  0\n",
      "the current num=  1  the prev num=  0  sum=  1\n",
      "the current num=  2  the prev num=  1  sum=  3\n",
      "the current num=  3  the prev num=  2  sum=  5\n",
      "the current num=  4  the prev num=  3  sum=  7\n",
      "the current num=  5  the prev num=  4  sum=  9\n",
      "the current num=  6  the prev num=  5  sum=  11\n",
      "the current num=  7  the prev num=  6  sum=  13\n",
      "the current num=  8  the prev num=  7  sum=  15\n",
      "the current num=  9  the prev num=  8  sum=  17\n"
     ]
    }
   ],
   "source": [
    "pn=0\n",
    "for i in range (0,10):\n",
    "    print('the current num= ',i,' the prev num= ',pn,' sum= ',i+pn)\n",
    "    pn=i"
   ]
  },
  {
   "cell_type": "code",
   "execution_count": 22,
   "id": "53adbec7",
   "metadata": {},
   "outputs": [
    {
     "name": "stdout",
     "output_type": "stream",
     "text": [
      "p\n",
      "t\n",
      "o\n"
     ]
    }
   ],
   "source": [
    "str1='pythonr'\n",
    "l=len(str1)\n",
    "for i in range (0,l-1,2):\n",
    "    print(str1[i])"
   ]
  },
  {
   "cell_type": "code",
   "execution_count": 38,
   "id": "b0d52620",
   "metadata": {},
   "outputs": [
    {
     "name": "stdout",
     "output_type": "stream",
     "text": [
      "1 2 3 4 5 6 7 8 9 10 \n",
      "2 4 6 8 10 12 14 16 18 20 \n",
      "3 6 9 12 15 18 21 24 27 30 \n",
      "4 8 12 16 20 24 28 32 36 40 \n",
      "5 10 15 20 25 30 35 40 45 50 \n",
      "6 12 18 24 30 36 42 48 54 60 \n",
      "7 14 21 28 35 42 49 56 63 70 \n",
      "8 16 24 32 40 48 56 64 72 80 \n",
      "9 18 27 36 45 54 63 72 81 90 \n",
      "10 20 30 40 50 60 70 80 90 100 \n"
     ]
    }
   ],
   "source": [
    "for i in range (1,11):\n",
    "    for j in range(1,11):\n",
    "        print(i*j,end= \" \")\n",
    "    print()"
   ]
  },
  {
   "cell_type": "code",
   "execution_count": 40,
   "id": "72abfc2c",
   "metadata": {},
   "outputs": [
    {
     "name": "stdout",
     "output_type": "stream",
     "text": [
      "* * * * * \n",
      "* * * * \n",
      "* * * \n",
      "* * \n",
      "* \n"
     ]
    }
   ],
   "source": [
    "for i in range (5,0,-1):\n",
    "    for j in range (0,i):\n",
    "        print('*',end=' ')\n",
    "    print()"
   ]
  },
  {
   "cell_type": "code",
   "execution_count": 47,
   "id": "f68aa76f",
   "metadata": {},
   "outputs": [
    {
     "name": "stdout",
     "output_type": "stream",
     "text": [
      "the result=  81\n"
     ]
    }
   ],
   "source": [
    "def exponent(base, exp):\n",
    "    result=1\n",
    "    for i in  range(0,exp):\n",
    "        result*=base\n",
    "    return result\n",
    "\n",
    "print('the result= ',exponent(3,4))"
   ]
  },
  {
   "cell_type": "code",
   "execution_count": 48,
   "id": "fcb7d208",
   "metadata": {},
   "outputs": [
    {
     "name": "stdout",
     "output_type": "stream",
     "text": [
      "182.0\n"
     ]
    }
   ],
   "source": [
    "x = 36 / 4 * (3 + 2) * 4 + 2\n",
    "print(x)"
   ]
  },
  {
   "cell_type": "code",
   "execution_count": 49,
   "id": "ac715645",
   "metadata": {},
   "outputs": [
    {
     "name": "stdout",
     "output_type": "stream",
     "text": [
      "JamesJamesJamesJamesJamesJames\n"
     ]
    }
   ],
   "source": [
    "var = \"James\" * 2 * 3\n",
    "print(var)"
   ]
  },
  {
   "cell_type": "code",
   "execution_count": 50,
   "id": "d2d7ae0d",
   "metadata": {},
   "outputs": [
    {
     "name": "stdout",
     "output_type": "stream",
     "text": [
      "JamesJamesJamesJamesJamesJames\n"
     ]
    }
   ],
   "source": [
    "var = \"James\" * 2 * 3\n",
    "print(var)"
   ]
  },
  {
   "cell_type": "code",
   "execution_count": 51,
   "id": "fee26ade",
   "metadata": {},
   "outputs": [
    {
     "name": "stdout",
     "output_type": "stream",
     "text": [
      "10 20 30\n"
     ]
    }
   ],
   "source": [
    "p, q, r = 10, 20 ,30\n",
    "print(p, q, r)\n"
   ]
  },
  {
   "cell_type": "code",
   "execution_count": 54,
   "id": "f861cb32",
   "metadata": {},
   "outputs": [
    {
     "name": "stdout",
     "output_type": "stream",
     "text": [
      "10, 11, 12, 13, 14, "
     ]
    }
   ],
   "source": [
    "for i in range(10, 15, 1):\n",
    "    print( i, end=', ')"
   ]
  },
  {
   "cell_type": "code",
   "execution_count": 56,
   "id": "38d4c4d2",
   "metadata": {},
   "outputs": [
    {
     "name": "stdout",
     "output_type": "stream",
     "text": [
      "{'Vicki', 'Garry', 'Eric', 'Jodi'}\n"
     ]
    }
   ],
   "source": [
    "sampleSet = {\"Jodi\", \"Eric\", \"Garry\"}\n",
    "sampleSet.add(\"Vicki\")\n",
    "print(sampleSet)"
   ]
  },
  {
   "cell_type": "code",
   "execution_count": 57,
   "id": "8da7d146",
   "metadata": {},
   "outputs": [
    {
     "name": "stdout",
     "output_type": "stream",
     "text": [
      "yn\n"
     ]
    }
   ],
   "source": [
    "str = \"pynative\"\n",
    "print (str[1:3])"
   ]
  },
  {
   "cell_type": "code",
   "execution_count": 59,
   "id": "e6105f39",
   "metadata": {},
   "outputs": [
    {
     "name": "stdout",
     "output_type": "stream",
     "text": [
      "maJ\n"
     ]
    }
   ],
   "source": [
    "var= \"James Bond\"\n",
    "print(var[2::-1])"
   ]
  },
  {
   "cell_type": "code",
   "execution_count": 60,
   "id": "75b036fa",
   "metadata": {},
   "outputs": [
    {
     "name": "stdout",
     "output_type": "stream",
     "text": [
      "25\n",
      "125\n"
     ]
    }
   ],
   "source": [
    "valueOne = 5 ** 2\n",
    "valueTwo = 5 ** 3\n",
    "print(valueOne)\n",
    "print(valueTwo)\n"
   ]
  }
 ],
 "metadata": {
  "kernelspec": {
   "display_name": "Python 3 (ipykernel)",
   "language": "python",
   "name": "python3"
  },
  "language_info": {
   "codemirror_mode": {
    "name": "ipython",
    "version": 3
   },
   "file_extension": ".py",
   "mimetype": "text/x-python",
   "name": "python",
   "nbconvert_exporter": "python",
   "pygments_lexer": "ipython3",
   "version": "3.9.12"
  }
 },
 "nbformat": 4,
 "nbformat_minor": 5
}
