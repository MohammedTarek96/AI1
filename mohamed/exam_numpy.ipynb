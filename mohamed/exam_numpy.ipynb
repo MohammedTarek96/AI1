{
 "cells": [
  {
   "cell_type": "code",
   "execution_count": 44,
   "id": "667a1ab1",
   "metadata": {},
   "outputs": [
    {
     "data": {
      "text/plain": [
       "[array([10, 11, 12, 13, 14, 15]),\n",
       " array([16, 17, 18, 19, 20, 21]),\n",
       " array([22, 23, 24, 25, 26, 27]),\n",
       " array([28, 29, 30, 31, 32, 33])]"
      ]
     },
     "execution_count": 44,
     "metadata": {},
     "output_type": "execute_result"
    }
   ],
   "source": [
    "#exercise 1\n",
    "import numpy as np\n",
    "arr=np.arange(10, 34, 1)\n",
    "arr.reshape(8,3)\n",
    "arr1=np.array_split(arr,4)\n",
    "arr1"
   ]
  },
  {
   "cell_type": "code",
   "execution_count": 59,
   "id": "fa55de2b",
   "metadata": {},
   "outputs": [
    {
     "name": "stdout",
     "output_type": "stream",
     "text": [
      "Sort array by the second row\n",
      "  [[73 43 34]\n",
      " [12 22 82]\n",
      " [66 94 53]]\n",
      "Sort array by the second column\n",
      " [[43 34 73]\n",
      " [22 82 12]\n",
      " [94 53 66]]\n"
     ]
    }
   ],
   "source": [
    "#exercise 2\n",
    "sampleArray=np.array([[34,43,73],[82,22,12],[53,94,66]])\n",
    "sort_row=sampleArray[:,sampleArray[1,:].argsort()]\n",
    "sort_column=sampleArray[:,sampleArray[:,1].argsort()]\n",
    "print('Sort array by the second row\\n ',sort_row)\n",
    "print('Sort array by the second column\\n',sort_column)"
   ]
  },
  {
   "cell_type": "code",
   "execution_count": 54,
   "id": "7942df3a",
   "metadata": {},
   "outputs": [
    {
     "name": "stdout",
     "output_type": "stream",
     "text": [
      "[82 94 73]\n",
      "[34 12 53]\n"
     ]
    }
   ],
   "source": [
    "#exercise 3\n",
    "sampleArray1 = np.array([[34,43,73],[82,22,12],[53,94,66]])\n",
    "print(np.amax(sampleArray1,0))\n",
    "print(np.amin(sampleArray1,1))"
   ]
  },
  {
   "cell_type": "code",
   "execution_count": 57,
   "id": "05823f2c",
   "metadata": {},
   "outputs": [
    {
     "data": {
      "text/plain": [
       "array([[34, 10, 73],\n",
       "       [82, 10, 12],\n",
       "       [53, 10, 66]])"
      ]
     },
     "execution_count": 57,
     "metadata": {},
     "output_type": "execute_result"
    }
   ],
   "source": [
    "#exercise 4\n",
    "sampleArray2 = np.array([[34,43,73],[82,22,12],[53,94,66]])\n",
    "newColumn = np.array([[10,10,10]])\n",
    "sampleArray2=np.delete(sampleArray2,1,axis=1)\n",
    "sampleArray2=np.insert(sampleArray2,1,newColumn,axis=1)\n",
    "sampleArray2"
   ]
  }
 ],
 "metadata": {
  "kernelspec": {
   "display_name": "Python 3 (ipykernel)",
   "language": "python",
   "name": "python3"
  },
  "language_info": {
   "codemirror_mode": {
    "name": "ipython",
    "version": 3
   },
   "file_extension": ".py",
   "mimetype": "text/x-python",
   "name": "python",
   "nbconvert_exporter": "python",
   "pygments_lexer": "ipython3",
   "version": "3.9.12"
  }
 },
 "nbformat": 4,
 "nbformat_minor": 5
}
