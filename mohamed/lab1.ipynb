{
 "cells": [
  {
   "cell_type": "code",
   "execution_count": 1,
   "id": "d2e3ee09",
   "metadata": {},
   "outputs": [
    {
     "name": "stdout",
     "output_type": "stream",
     "text": [
      "{'orange', 'green', 'yellow', 'blue', 'red', 'black'}\n"
     ]
    }
   ],
   "source": [
    "set1={\"yellow\",\"orange\",\"black\"}\n",
    "list1=[\"blue\",\"green\",\"red\"]\n",
    "list2=list(set1)\n",
    "print(set(list1+list2))"
   ]
  },
  {
   "cell_type": "code",
   "execution_count": 18,
   "id": "dc5552c2",
   "metadata": {},
   "outputs": [
    {
     "name": "stdout",
     "output_type": "stream",
     "text": [
      "enter number: 51\n",
      "15 "
     ]
    }
   ],
   "source": [
    "n=int(input('enter number: '))\n",
    "n=str(n)\n",
    "n1=''\n",
    "for i in n[::-1]:\n",
    "    n1+=i\n",
    "print(n1,end=\" \")"
   ]
  },
  {
   "cell_type": "code",
   "execution_count": 2,
   "id": "bb75828b",
   "metadata": {},
   "outputs": [
    {
     "name": "stdout",
     "output_type": "stream",
     "text": [
      "50\n",
      "40\n",
      "30\n",
      "20\n",
      "10\n"
     ]
    }
   ],
   "source": [
    "t=(10,20,30,40,50)\n",
    "l=len(t)\n",
    "for i in range(l,0,-1):\n",
    "    print(t[i-1])"
   ]
  },
  {
   "cell_type": "code",
   "execution_count": 3,
   "id": "cd35a67b",
   "metadata": {},
   "outputs": [
    {
     "name": "stdout",
     "output_type": "stream",
     "text": [
      "(50, 40, 30, 20, 10)\n"
     ]
    }
   ],
   "source": [
    "t=(10,20,30,40,50)\n",
    "list1=list(t)\n",
    "list1.reverse()\n",
    "t=tuple(list1)\n",
    "print(t)"
   ]
  }
 ],
 "metadata": {
  "kernelspec": {
   "display_name": "Python 3 (ipykernel)",
   "language": "python",
   "name": "python3"
  },
  "language_info": {
   "codemirror_mode": {
    "name": "ipython",
    "version": 3
   },
   "file_extension": ".py",
   "mimetype": "text/x-python",
   "name": "python",
   "nbconvert_exporter": "python",
   "pygments_lexer": "ipython3",
   "version": "3.9.12"
  }
 },
 "nbformat": 4,
 "nbformat_minor": 5
}
