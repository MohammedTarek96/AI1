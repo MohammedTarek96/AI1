{
 "cells": [
  {
   "cell_type": "code",
   "execution_count": 2,
   "id": "11760532",
   "metadata": {},
   "outputs": [
    {
     "name": "stdout",
     "output_type": "stream",
     "text": [
      "True\n",
      "False\n"
     ]
    }
   ],
   "source": [
    "#exercise 5: check if the first and last number of a list is the same\n",
    "\n",
    "\n",
    "def T_or_F(list1):\n",
    "    if list1[0]==list1[4]:\n",
    "        return \"True\"\n",
    "    else:\n",
    "        return \"False\"\n",
    "list1=[10,20,30,40,10]\n",
    "list2=[75,65,35,75,30]\n",
    "print(T_or_F(list1)+'\\n'+T_or_F(list2))"
   ]
  },
  {
   "cell_type": "code",
   "execution_count": 5,
   "id": "9f2837c4",
   "metadata": {},
   "outputs": [
    {
     "name": "stdout",
     "output_type": "stream",
     "text": [
      "5\n",
      "55\n"
     ]
    }
   ],
   "source": [
    "#exercise 6: Display numbers divisible by 5 from a list\n",
    "\n",
    "l=[5,7,55,9,4] #elements of random list\n",
    "\n",
    "for i in range(0,4):\n",
    "    if l[i]%5==0:\n",
    "        print(l[i])\n"
   ]
  },
  {
   "cell_type": "code",
   "execution_count": 20,
   "id": "3bc8e12d",
   "metadata": {},
   "outputs": [
    {
     "name": "stdout",
     "output_type": "stream",
     "text": [
      "1 \n",
      "2 2 \n",
      "3 3 3 \n",
      "4 4 4 4 \n",
      "5 5 5 5 5 \n"
     ]
    }
   ],
   "source": [
    "#exercise 8\n",
    " #nested loop\n",
    "for i in range(1,6):\n",
    "    for j in range(0,i):\n",
    "        print(i,end=\" \")\n",
    "    print()\n",
    "        "
   ]
  },
  {
   "cell_type": "code",
   "execution_count": 23,
   "id": "536cbee3",
   "metadata": {},
   "outputs": [
    {
     "name": "stdout",
     "output_type": "stream",
     "text": [
      "enter number to check: 11\n",
      "11 : is palimdrome number\n"
     ]
    }
   ],
   "source": [
    "#exercise 9: Check palimdrome number\n",
    "\n",
    "n1=int(input(\"enter number to check: \"))\n",
    "n1=str(n1) #<----convert the integer into string\n",
    "l=len(n1)\n",
    "n2=\"\"\n",
    "for i in range(l,0,-1):\n",
    "    n2+=n1[i-1]\n",
    "n1=int(n1)   #<----convert the string into integer\n",
    "n2=int(n2)  #<----convert the string into integer\n",
    "\n",
    "if n1==n2:\n",
    "    print(n1,\": is palimdrome number\")\n",
    "else:\n",
    "    print(n1,\": isn\\'t palimdrome number\")\n"
   ]
  },
  {
   "cell_type": "code",
   "execution_count": 24,
   "id": "e6134107",
   "metadata": {},
   "outputs": [
    {
     "name": "stdout",
     "output_type": "stream",
     "text": [
      "the count of Emma is:  2\n"
     ]
    }
   ],
   "source": [
    "#exercise 7: return the count of a given substring from a string\n",
    "\n",
    "s=\"Emma is good developer. Emma is a writer\"\n",
    "l=s.split(\" \")   \n",
    "n= len(l)\n",
    "m=0\n",
    "\n",
    "for i in range(0,n):\n",
    "    if l[i]==\"Emma\":\n",
    "        m+=1\n",
    "print(\"the count of Emma is: \",m)"
   ]
  }
 ],
 "metadata": {
  "kernelspec": {
   "display_name": "Python 3 (ipykernel)",
   "language": "python",
   "name": "python3"
  },
  "language_info": {
   "codemirror_mode": {
    "name": "ipython",
    "version": 3
   },
   "file_extension": ".py",
   "mimetype": "text/x-python",
   "name": "python",
   "nbconvert_exporter": "python",
   "pygments_lexer": "ipython3",
   "version": "3.9.12"
  }
 },
 "nbformat": 4,
 "nbformat_minor": 5
}
